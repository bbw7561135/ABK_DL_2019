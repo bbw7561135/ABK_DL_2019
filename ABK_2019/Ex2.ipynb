{
 "cells": [
  {
   "cell_type": "markdown",
   "metadata": {},
   "source": [
    "# In-Class Basics\n",
    "\n",
    "Same imports as in Ex1."
   ]
  },
  {
   "cell_type": "code",
   "execution_count": 8,
   "metadata": {},
   "outputs": [],
   "source": [
    "import numpy as np\n",
    "import matplotlib.pyplot as plt"
   ]
  },
  {
   "cell_type": "markdown",
   "metadata": {},
   "source": [
    "**Prepare the dice rolls**\n",
    "\n",
    "Use the [randint] function to generate 100 random integers. Careful about the boundaries - the lower bound is inclusive, the upper bounds is exclusive. So this gives us a standard 6-sided dice.\n",
    "\n",
    "[randint]: https://docs.scipy.org/doc/numpy/reference/generated/numpy.random.randint.html#numpy.random.randint"
   ]
  },
  {
   "cell_type": "code",
   "execution_count": 33,
   "metadata": {},
   "outputs": [],
   "source": [
    "dice_rolls = np.random.randint(1,7,20)"
   ]
  },
  {
   "cell_type": "markdown",
   "metadata": {},
   "source": [
    "Verify that the distribution behaves as we expect:\n"
   ]
  },
  {
   "cell_type": "code",
   "execution_count": 34,
   "metadata": {},
   "outputs": [
    {
     "name": "stdout",
     "output_type": "stream",
     "text": [
      "Mean:  3.05\n",
      "Min:  1\n",
      "Max:  6\n"
     ]
    }
   ],
   "source": [
    "print(\"Mean: \", np.mean(dice_rolls))\n",
    "print(\"Min: \", np.min(dice_rolls))\n",
    "print(\"Max: \", np.max(dice_rolls))"
   ]
  },
  {
   "cell_type": "markdown",
   "metadata": {},
   "source": [
    "**Calculate the entropy of the distribution.**\n",
    "\n",
    "There exist more elegant ways as well as premade functions for this task, but the goal is also to learn how to write a simple loop.\n",
    "\n",
    "First we need to convert the list of dice rolls into the probabilities to roll each number 1..6. To this we start by counting the occurances of each number, and then divide by the total rools. Then we use the formula from the lecture to calculate the entropy."
   ]
  },
  {
   "cell_type": "code",
   "execution_count": 30,
   "metadata": {},
   "outputs": [
    {
     "name": "stdout",
     "output_type": "stream",
     "text": [
      "Before counting:\n",
      "[0. 0. 0. 0. 0. 0.]\n",
      "After counting:\n",
      "[5. 1. 5. 3. 4. 2.]\n"
     ]
    }
   ],
   "source": [
    "# Create an array with six entries, each time the number zero\n",
    "counts = np.zeros(6)\n",
    "print(\"Before counting:\")\n",
    "print(counts)\n",
    "\n",
    "# This loops over all dice rolls\n",
    "for roll in dice_rolls:\n",
    "    # Increment the corresponding entry in the list of counts.\n",
    "    # CAREFUL: Python array indices start at zero\n",
    "    # This means we store the total number of ones in couts[0], \n",
    "    # the numbers of twos in counts[1], and so on.\n",
    "    counts[roll-1] += 1\n",
    "print(\"After counting:\")\n",
    "print(counts)"
   ]
  },
  {
   "cell_type": "code",
   "execution_count": 31,
   "metadata": {},
   "outputs": [
    {
     "name": "stdout",
     "output_type": "stream",
     "text": [
      "Probabilities: [0.25 0.05 0.25 0.15 0.2  0.1 ]\n"
     ]
    }
   ],
   "source": [
    "# Turn into probabilities by dividing by the number of total events\n",
    "probs = counts / len(dice_rolls)\n",
    "print(\"Probabilities:\", probs)"
   ]
  },
  {
   "cell_type": "code",
   "execution_count": 32,
   "metadata": {},
   "outputs": [
    {
     "name": "stdout",
     "output_type": "stream",
     "text": [
      "The entropy of a dice roll is: 2.4232196723355073 bits\n"
     ]
    }
   ],
   "source": [
    "# Calculate entropy\n",
    "entropy = 0.\n",
    "for prob in probs:\n",
    "    entropy += (- prob * np.log2(prob))\n",
    "print(\"The entropy of a dice roll is:\", entropy, \"bits\")"
   ]
  },
  {
   "cell_type": "markdown",
   "metadata": {},
   "source": [
    "# Homework problems:\n",
    "   * We used 100 dice rolls to estimate the entropy. How does the result change for 20, 100, 1000 and 10000 rolls? What is the expected result for a perfect dice?\n",
    "   * What if we had used a ten-sided or a twenty-sided dice instead? Plot the entropy versus the number of sides for at least 4 different values\n",
    "   * Look at this [function] and see how you can use it to simulate an **unfair** six-sided dice. What is the entropy?\n",
    "  \n",
    "[function]: https://docs.scipy.org/doc/numpy-1.15.1/reference/generated/numpy.random.multinomial.html\n",
    "    "
   ]
  }
 ],
 "metadata": {
  "kernelspec": {
   "display_name": "Python 3",
   "language": "python",
   "name": "python3"
  },
  "language_info": {
   "codemirror_mode": {
    "name": "ipython",
    "version": 3
   },
   "file_extension": ".py",
   "mimetype": "text/x-python",
   "name": "python",
   "nbconvert_exporter": "python",
   "pygments_lexer": "ipython3",
   "version": "3.7.3"
  }
 },
 "nbformat": 4,
 "nbformat_minor": 2
}
