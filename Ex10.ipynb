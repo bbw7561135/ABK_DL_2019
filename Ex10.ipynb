{
 "cells": [
  {
   "cell_type": "markdown",
   "metadata": {},
   "source": [
    "# Exercise 10: Generative Networks"
   ]
  },
  {
   "cell_type": "code",
   "execution_count": 1,
   "metadata": {},
   "outputs": [],
   "source": [
    "import numpy as np\n",
    "import matplotlib.pyplot as plt\n",
    "\n",
    "import torch\n",
    "import torch.nn as nn\n",
    "import torch.nn.functional as F\n",
    "import torchvision"
   ]
  },
  {
   "cell_type": "code",
   "execution_count": 2,
   "metadata": {},
   "outputs": [],
   "source": [
    "# Use built-in Pytorch function to download MNIST data in usable format \n",
    "# the images are automatically normalised to a mean of zero and sigma of 1 \n",
    "\n",
    "batch_size = 100\n",
    "\n",
    "train_loader = torch.utils.data.DataLoader(\n",
    "  torchvision.datasets.MNIST('.', train=True, download=True,\n",
    "                             transform=torchvision.transforms.Compose([\n",
    "                               torchvision.transforms.ToTensor(),\n",
    "                               torchvision.transforms.Normalize(\n",
    "                                 (0.1307,), (0.3081,)) # initial mean and width\n",
    "                             ])),\n",
    "  batch_size=batch_size, shuffle=True)\n"
   ]
  },
  {
   "cell_type": "code",
   "execution_count": 4,
   "metadata": {
    "scrolled": false
   },
   "outputs": [
    {
     "name": "stdout",
     "output_type": "stream",
     "text": [
      "torch.Size([100, 1, 28, 28])\n"
     ]
    },
    {
     "data": {
      "image/png": "[encoded data removed]",
      "text/plain": [
       "<Figure size 432x288 with 1 Axes>"
      ]
     },
     "metadata": {},
     "output_type": "display_data"
    },
    {
     "data": {
      "image/png": "[encoded data removed]",
      "text/plain": [
       "<Figure size 432x288 with 1 Axes>"
      ]
     },
     "metadata": {},
     "output_type": "display_data"
    },
    {
     "data": {
      "image/png": "[encoded data removed]",
      "text/plain": [
       "<Figure size 432x288 with 1 Axes>"
      ]
     },
     "metadata": {},
     "output_type": "display_data"
    },
    {
     "data": {
      "image/png": "[encoded data removed]",
      "text/plain": [
       "<Figure size 432x288 with 1 Axes>"
      ]
     },
     "metadata": {},
     "output_type": "display_data"
    },
    {
     "data": {
      "image/png": "[encoded data removed]",
      "text/plain": [
       "<Figure size 432x288 with 1 Axes>"
      ]
     },
     "metadata": {},
     "output_type": "display_data"
    },
    {
     "data": {
      "image/png": "[encoded data removed]",
      "text/plain": [
       "<Figure size 432x288 with 1 Axes>"
      ]
     },
     "metadata": {},
     "output_type": "display_data"
    }
   ],
   "source": [
    "# Helper function to draw MNIST image\n",
    "# expect a 2D tensor as input\n",
    "def draw_image(im):\n",
    "    plt.imshow(im, cmap='gray', interpolation='none')\n",
    "    plt.xticks([])\n",
    "    plt.yticks([])\n",
    "    plt.show()\n",
    "\n",
    "\n",
    "examples = enumerate(train_loader)\n",
    "for batch_idx, (example_data, example_targets) in examples:\n",
    "\n",
    "    # First print the shape of the example_data tensor\n",
    "    print(example_data.shape) # 100 examples, 1 color, 28x28 pixel images\n",
    "    \n",
    "    # Show the first 6 images\n",
    "    for i in range(6):\n",
    "        draw_image(example_data[i][0])\n",
    "        \n",
    "    break # Abort the loop over the input data"
   ]
  },
  {
   "cell_type": "code",
   "execution_count": null,
   "metadata": {},
   "outputs": [],
   "source": [
    "# A few useful functions\n",
    "\n",
    "# Produce random numbers as input for generator\n",
    "# torch.randn produces random numbers following \n",
    "# a Gaussian with mean=0 and sigma=1\n",
    "def noise(size):\n",
    "    return torch.autograd.Variable(torch.randn(size, 100))\n",
    "\n",
    "# Translate images to flat vectors (784 = 28*28)\n",
    "def images_to_vectors(images):\n",
    "    return images.view(images.size(0), 784)\n",
    "\n",
    "# Translate flat vectors to images in the format (color, vertical, horizontal)\n",
    "def vectors_to_images(vectors):\n",
    "    return vectors.view(vectors.size(0), 1, 28, 28)"
   ]
  },
  {
   "cell_type": "markdown",
   "metadata": {},
   "source": [
    "# Homework\n",
    "\n",
    "\n",
    "Implement two networks, named `discriminator` and `generator` (the exact names are important so the subsequent code picks them up correctly). The Discriminator network should receive an input list with 784 features and have one output node. As it does binary discrimination between real and fake images, using a sigmoid for the last layer is recommended. The generator should receive 100 input features (random numbers) and produce a final output of length 784 (28 times 28). Using `tanh` as activiation function for the final layer might be useful. Using the code below, see what image generation results you can acvieve\n",
    "\n",
    "Produce ten example image after training has completed."
   ]
  },
  {
   "cell_type": "code",
   "execution_count": null,
   "metadata": {
    "scrolled": false
   },
   "outputs": [],
   "source": [
    "# Homework: Implement the networks\n",
    "discriminator = ...\n",
    "generator = ...\n",
    "\n",
    "# We need two optimisers, one for the generator, one for the discriminator network\n",
    "d_optimizer = torch.optim.Adam(discriminator.parameters(), lr=0.0002)\n",
    "g_optimizer = torch.optim.Adam(generator.parameters(), lr=0.0002)\n",
    "\n",
    "loss = nn.BCELoss() # Binary cross entropy loss function"
   ]
  },
  {
   "cell_type": "code",
   "execution_count": null,
   "metadata": {
    "scrolled": false
   },
   "outputs": [],
   "source": [
    "# The code below handles the training of the GAN\n",
    "\n",
    "# Total number of epochs to train\n",
    "n_epochs = 20 # start with one epoch (you will want to increase this number)\n",
    "\n",
    "# Loop over epochs\n",
    "for epoch in range(n_epochs):\n",
    "    \n",
    "    # Loop over training examples\n",
    "    examples = enumerate(train_loader)\n",
    "    for i_batch, (real_batch, _) in examples:\n",
    "\n",
    "        # Batch size\n",
    "        N = real_batch.size(0)\n",
    "        \n",
    "        # First Train Discriminator\n",
    "        real_data = torch.autograd.Variable(images_to_vectors(real_batch))\n",
    "\n",
    "        # Generate fake data\n",
    "        # (detach avoid calculating gradients for generator when training discriminator)\n",
    "        fake_data = generator(noise(N)).detach()\n",
    "\n",
    "        # Reset gradient\n",
    "        d_optimizer.zero_grad()\n",
    "    \n",
    "        # Train discriminator on real data\n",
    "        prediction_real = discriminator(real_data)\n",
    "\n",
    "        # Calculate error and backpropagate\n",
    "        # We want the discriminator to report \"1\" for real images\n",
    "        ones = torch.autograd.Variable(torch.ones(N, 1))\n",
    "        error_real = loss(prediction_real, ones)\n",
    "        error_real.backward()\n",
    "\n",
    "        # Train discriminator on fake data\n",
    "        prediction_fake = discriminator(fake_data)\n",
    "        \n",
    "        # Calculate error and backpropagate\n",
    "        # We want the discriminator to report \"0\" for fake images\n",
    "        zeros =  torch.autograd.Variable(torch.zeros(N, 1))\n",
    "        error_fake = loss(prediction_fake, zeros)\n",
    "        error_fake.backward()\n",
    "\n",
    "        # Update weights with gradients\n",
    "        d_optimizer.step()\n",
    "\n",
    "        # Total discriminator error\n",
    "        d_error =  error_real + error_fake\n",
    "\n",
    "        # Train Generator\n",
    "        # Generate fake data\n",
    "        fake_data = generator(noise(N))\n",
    "\n",
    "        # Reset gradients\n",
    "        g_optimizer.zero_grad()\n",
    "\n",
    "        # Sample noise and generate fake data\n",
    "        prediction = discriminator(fake_data)\n",
    "\n",
    "        # Calculate error and backpropagate\n",
    "        # instead of maximising the loss for zeros we minimise the loss for ones\n",
    "        ones = torch.autograd.Variable(torch.ones(N, 1))\n",
    "        g_error = loss(prediction, ones)\n",
    "        g_error.backward()\n",
    "\n",
    "        # Update weights with gradients\n",
    "        g_optimizer.step()\n",
    "\n",
    "        # Show status every few batches\n",
    "        if (i_batch) % 50 == 0: \n",
    "                        \n",
    "            test_images = vectors_to_images(generator(noise(1)))\n",
    "            test_images = test_images.data\n",
    "            print(\"Epoch: {0}, Batch: {1}, Error D: {2}, Error G: {3}\".format(epoch,i_batch,d_error,g_error))\n",
    "            draw_image(test_images[0][0])\n",
    "                \n"
   ]
  }
 ],
 "metadata": {
  "kernelspec": {
   "display_name": "Python 3",
   "language": "python",
   "name": "python3"
  },
  "language_info": {
   "codemirror_mode": {
    "name": "ipython",
    "version": 3
   },
   "file_extension": ".py",
   "mimetype": "text/x-python",
   "name": "python",
   "nbconvert_exporter": "python",
   "pygments_lexer": "ipython3",
   "version": "3.7.3"
  }
 },
 "nbformat": 4,
 "nbformat_minor": 2
}
