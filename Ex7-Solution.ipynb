{
 "cells": [
  {
   "cell_type": "markdown",
   "metadata": {},
   "source": [
    "# Exercise 7: Neural Networks using PyTorch"
   ]
  },
  {
   "cell_type": "code",
   "execution_count": 2,
   "metadata": {},
   "outputs": [],
   "source": [
    "import numpy as np\n",
    "import matplotlib.pyplot as plt\n",
    "\n",
    "import torch\n",
    "import torch.nn as nn"
   ]
  },
  {
   "cell_type": "markdown",
   "metadata": {},
   "source": [
    "We are using again the wine-data from Exercise 4, but now building a neural network for prediction."
   ]
  },
  {
   "cell_type": "code",
   "execution_count": 3,
   "metadata": {},
   "outputs": [
    {
     "name": "stdout",
     "output_type": "stream",
     "text": [
      "data: (4898, 12)\n",
      "First example:\n",
      "Features: [5.600e+00 3.500e-01 4.000e-01 6.300e+00 2.200e-02 2.300e+01 1.740e+02\n",
      " 9.922e-01 3.540e+00 5.000e-01 1.160e+01]\n",
      "Quality: 7.0\n"
     ]
    }
   ],
   "source": [
    "# load all examples from the file\n",
    "data = np.genfromtxt('winequality-white.csv',delimiter=\";\",skip_header=1)\n",
    "\n",
    "print(\"data:\", data.shape)\n",
    "\n",
    "# Prepare for proper training\n",
    "np.random.shuffle(data) # randomly sort examples\n",
    "\n",
    "# take the first 3000 examples for training\n",
    "X_train = data[:3000,:11] # all features except last column\n",
    "y_train = data[:3000,11]  # quality column\n",
    "\n",
    "# and the remaining examples for testing\n",
    "X_test = data[3000:,:11] # all features except last column\n",
    "y_test = data[3000:,11] # quality column\n",
    "\n",
    "print(\"First example:\")\n",
    "print(\"Features:\", X_train[0])\n",
    "print(\"Quality:\", y_train[0])\n",
    "\n"
   ]
  },
  {
   "cell_type": "markdown",
   "metadata": {},
   "source": [
    "Below is the simple 2-layer NN from last week implemented using PyTorch. In addition to the network we define the loss function and optimiser"
   ]
  },
  {
   "cell_type": "code",
   "execution_count": 4,
   "metadata": {},
   "outputs": [],
   "source": [
    "# Fully connected neural network with one hidden layer\n",
    "class NeuralNet(nn.Module):\n",
    "    def __init__(self):\n",
    "        super(NeuralNet, self).__init__()\n",
    "\n",
    "        # First layer of the network\n",
    "        # 11 inputs, 20 outputs\n",
    "        self.fc1 = nn.Linear(11,20) \n",
    "        \n",
    "        # Second layer of the network\n",
    "        # 20 inputs, 1 output\n",
    "        self.fc2 = nn.Linear(20,1)\n",
    "        \n",
    "        # Relu activation function\n",
    "        self.relu = nn.ReLU()\n",
    "\n",
    "    \n",
    "    def forward(self, x):\n",
    "        \n",
    "        # Apply the network to a given matrix of inputs x\n",
    "        \n",
    "        out = self.fc1(x) # apply first layer\n",
    "        out = self.relu(out) # apply activation function\n",
    "        out = self.fc2(out) # apply second layer\n",
    "        return out\n",
    "\n",
    "# Which device to use for NN calculations\n",
    "device = torch.device('cuda' if torch.cuda.is_available() else 'cpu')  \n",
    "\n",
    "# Create network object\n",
    "model = NeuralNet().to(device)\n",
    "\n",
    "# Loss function\n",
    "criterion = nn.MSELoss()\n",
    "# Optimisation: SGD = stochastic gradient descent\n",
    "optimizer = torch.optim.SGD(model.parameters(), lr=0.001)\n",
    " \n",
    "# Keep track of the losses \n",
    "train_losses = []\n",
    "test_losses = []"
   ]
  },
  {
   "cell_type": "markdown",
   "metadata": {},
   "source": [
    "# Training loop and evaluation below\n",
    "\n",
    "The code below trains the network for 20 epochs using the loss function and optimiser defined above. Each example is individually passed to the network"
   ]
  },
  {
   "cell_type": "code",
   "execution_count": 9,
   "metadata": {
    "scrolled": false
   },
   "outputs": [
    {
     "name": "stdout",
     "output_type": "stream",
     "text": [
      "Epoch: 0 Train Loss: 0.7853623918274775 Test Loss: 0.7043667502552106\n",
      "Epoch: 1 Train Loss: 0.7840078762700801 Test Loss: 0.7030146756185044\n",
      "Epoch: 2 Train Loss: 0.7826669703195406 Test Loss: 0.7019853235605823\n",
      "Epoch: 3 Train Loss: 0.7815583948292587 Test Loss: 0.6993220170545478\n",
      "Epoch: 4 Train Loss: 0.7801968371497784 Test Loss: 0.6977911926012969\n",
      "Epoch: 5 Train Loss: 0.778758531362185 Test Loss: 0.6967399989856083\n",
      "Epoch: 6 Train Loss: 0.777373013153135 Test Loss: 0.6961726157104088\n",
      "Epoch: 7 Train Loss: 0.776022612389415 Test Loss: 0.6944426556303125\n",
      "Epoch: 8 Train Loss: 0.7749072887825188 Test Loss: 0.6922864669801617\n",
      "Epoch: 9 Train Loss: 0.7733761178538073 Test Loss: 0.691406430471949\n",
      "Epoch: 10 Train Loss: 0.771808809362995 Test Loss: 0.690337849438832\n",
      "Epoch: 11 Train Loss: 0.7703409625739426 Test Loss: 0.6890191992754601\n",
      "Epoch: 12 Train Loss: 0.768771757320751 Test Loss: 0.687729021933811\n",
      "Epoch: 13 Train Loss: 0.7672047610034364 Test Loss: 0.6862621781095459\n",
      "Epoch: 14 Train Loss: 0.7655238810059182 Test Loss: 0.6848721933065277\n",
      "Epoch: 15 Train Loss: 0.7639397405218157 Test Loss: 0.6821138293218811\n",
      "Epoch: 16 Train Loss: 0.7625693719300097 Test Loss: 0.6801360518089976\n",
      "Epoch: 17 Train Loss: 0.7606756680155701 Test Loss: 0.6785787498392338\n",
      "Epoch: 18 Train Loss: 0.7588685518873941 Test Loss: 0.67677361694629\n",
      "Epoch: 19 Train Loss: 0.7571526069842361 Test Loss: 0.6750544552722013\n",
      "Best loss: 0.6750544552722013 Final loss: 0.6750544552722013\n",
      "Correlation coefficient: 0.27682555060871356\n"
     ]
    },
    {
     "data": {
      "image/png": "[encoded data removed]",
      "text/plain": [
       "<Figure size 432x288 with 1 Axes>"
      ]
     },
     "metadata": {
      "needs_background": "light"
     },
     "output_type": "display_data"
    },
    {
     "data": {
      "image/png": "[encoded data removed]",
      "text/plain": [
       "<Figure size 432x288 with 1 Axes>"
      ]
     },
     "metadata": {
      "needs_background": "light"
     },
     "output_type": "display_data"
    }
   ],
   "source": [
    "# how many epochs to train\n",
    "n_epochs = 20 # This will train for one epoch\n",
    "\n",
    "train_examples = X_train.shape[0]\n",
    "\n",
    "# Loop over the epochs\n",
    "for ep in range(n_epochs):\n",
    "                \n",
    "    # Each epoch is a complete loop over the training data\n",
    "    for i in range(train_examples):\n",
    "        \n",
    "        # Reset gradient\n",
    "        optimizer.zero_grad()\n",
    "        \n",
    "        # Convert x and y to proper objects for PyTorch\n",
    "        x = torch.tensor(X_train[i],dtype=torch.float)\n",
    "        y = torch.tensor(y_train[i],dtype=torch.float)\n",
    "\n",
    "        # Apply the network \n",
    "        net_out = model(x)\n",
    "                \n",
    "        # Calculate the loss function\n",
    "        loss = criterion(net_out,y)\n",
    "                \n",
    "        # Calculate the gradients\n",
    "        loss.backward()\n",
    "        \n",
    "        # Update the weights\n",
    "        optimizer.step()\n",
    "        \n",
    "        \n",
    "    # Calculate predictions for the full training and testing sample\n",
    "    y_pred_train = model(torch.tensor(X_train,dtype=torch.float)).detach().numpy().flatten()\n",
    "    y_pred = model(torch.tensor(X_test,dtype=torch.float)).detach().numpy().flatten()\n",
    "\n",
    "    # Calculate aver loss / example over the epoch\n",
    "    train_loss = np.mean((y_pred_train-y_train)**2)\n",
    "    test_loss = np.mean((y_pred-y_test)**2)\n",
    "    \n",
    "    # print some information\n",
    "    print(\"Epoch:\",ep, \"Train Loss:\", train_loss,  \"Test Loss:\", test_loss)\n",
    "    \n",
    "    # and store the losses for later use\n",
    "    train_losses.append(train_loss)\n",
    "    test_losses.append(test_loss)\n",
    "    \n",
    "    \n",
    "# After the training:\n",
    "    \n",
    "# Prepare scatter plot\n",
    "y_pred =  model(torch.tensor(X_test,dtype=torch.float)).detach().numpy().flatten()\n",
    "\n",
    "\n",
    "print(\"Best loss:\", min(test_losses), \"Final loss:\", test_losses[-1])\n",
    "\n",
    "print(\"Correlation coefficient:\", np.corrcoef(y_pred,y_test)[0,1])\n",
    "plt.scatter(y_pred_train,y_train)\n",
    "plt.xlabel(\"Predicted\")\n",
    "plt.ylabel(\"True\")\n",
    "plt.show()\n",
    "\n",
    "# Prepare and loss over time\n",
    "plt.plot(train_losses,label=\"train\")\n",
    "plt.plot(test_losses,label=\"test\")\n",
    "plt.legend()\n",
    "plt.xlabel(\"Epoch\")\n",
    "plt.ylabel(\"Loss\")\n",
    "plt.show()\n"
   ]
  },
  {
   "cell_type": "markdown",
   "metadata": {},
   "source": [
    "\n",
    "# Homework\n",
    "\n",
    "This week's goal is to gain familiarty with the PyTorch library which we will be using for the rest of the week. It is documented [here]\n",
    "    * Currently SGD is used without momentum. Try training with a momentum term (see the documentation of SGD)\n",
    "    * Replace SGD with the Adam optimiser and train using that\n",
    "    * Add two more hidden layers to the network (you can choose the number of nodes but make sure to apply the ReLu activation function after each) and train again\n",
    "    * (more difficult) Instead of single examples, switch to training using batches of 5 examples. Note that the network can simply be applied to a matrix of multiple examples. In this case it will return a vector with one output per example\n",
    "  \n",
    "[here]: https://pytorch.org/docs/stable/index.html"
   ]
  },
  {
   "cell_type": "code",
   "execution_count": 7,
   "metadata": {},
   "outputs": [],
   "source": [
    "# SGD with momentum:\n",
    "optimizer = torch.optim.SGD(model.parameters(), lr=0.001, momentum=0.9)\n",
    "\n",
    "# Adam instead of SGD\n",
    "optimizer = torch.optim.Adam(model.parameters(), lr=0.001)"
   ]
  },
  {
   "cell_type": "code",
   "execution_count": 8,
   "metadata": {},
   "outputs": [],
   "source": [
    "# 2 extra layers\n",
    "class NeuralNet(nn.Module):\n",
    "    def __init__(self):\n",
    "        super(NeuralNet, self).__init__()\n",
    "\n",
    "        # First layer of the network\n",
    "        # 11 inputs, 20 outputs\n",
    "        self.fc1 = nn.Linear(11,20) \n",
    "        \n",
    "        # Second layer of the network\n",
    "        # 20 inputs, 20 outputs\n",
    "        self.fc2 = nn.Linear(20,20)\n",
    "        \n",
    "        # 20 inputs, 20 outputs\n",
    "        self.fc3 = nn.Linear(20,20)\n",
    "        \n",
    "        # 20 inputs, 1 output\n",
    "        self.fc4 = nn.Linear(20,1)\n",
    "        \n",
    "        \n",
    "        # Relu activation function\n",
    "        self.relu = nn.ReLU()\n",
    "\n",
    "    \n",
    "    def forward(self, x):\n",
    "        \n",
    "        # Apply the network to a given matrix of inputs x\n",
    "        \n",
    "        out = self.fc1(x) # apply first layer\n",
    "        out = self.relu(out) # apply activation function\n",
    "        out = self.fc2(out)\n",
    "        out = self.relu(out)\n",
    "        out = self.fc3(out)\n",
    "        out = self.relu(out)\n",
    "        out = self.fc4(out)\n",
    "        return out"
   ]
  },
  {
   "cell_type": "code",
   "execution_count": 10,
   "metadata": {},
   "outputs": [
    {
     "name": "stderr",
     "output_type": "stream",
     "text": [
      "/Users/gregor/anaconda3/lib/python3.7/site-packages/torch/nn/modules/loss.py:443: UserWarning: Using a target size (torch.Size([5])) that is different to the input size (torch.Size([5, 1])). This will likely lead to incorrect results due to broadcasting. Please ensure they have the same size.\n",
      "  return F.mse_loss(input, target, reduction=self.reduction)\n"
     ]
    },
    {
     "name": "stdout",
     "output_type": "stream",
     "text": [
      "Epoch: 0 Train Loss: 0.7892789458350641 Test Loss: 0.7054502748592628\n",
      "Epoch: 1 Train Loss: 0.7945569901622886 Test Loss: 0.7083497922995877\n",
      "Epoch: 2 Train Loss: 0.799396368371176 Test Loss: 0.7116012396460433\n",
      "Epoch: 3 Train Loss: 0.8020542872536742 Test Loss: 0.7136232386903869\n",
      "Epoch: 4 Train Loss: 0.80300117316521 Test Loss: 0.7143517062021001\n",
      "Epoch: 5 Train Loss: 0.8022572578493185 Test Loss: 0.7138315736724329\n",
      "Epoch: 6 Train Loss: 0.801473834406285 Test Loss: 0.7130400289509724\n",
      "Epoch: 7 Train Loss: 0.8062898632694625 Test Loss: 0.7175179030233204\n",
      "Epoch: 8 Train Loss: 0.8077710177968832 Test Loss: 0.7188613582337607\n",
      "Epoch: 9 Train Loss: 0.8086782713496201 Test Loss: 0.719709562748476\n",
      "Epoch: 10 Train Loss: 0.8097747681714568 Test Loss: 0.7207169702311825\n",
      "Epoch: 11 Train Loss: 0.8104026255237052 Test Loss: 0.7212025284378297\n",
      "Epoch: 12 Train Loss: 0.8110393229683223 Test Loss: 0.7217828118933701\n",
      "Epoch: 13 Train Loss: 0.8109090234203592 Test Loss: 0.7217171698868352\n",
      "Epoch: 14 Train Loss: 0.8109143055277088 Test Loss: 0.721740486677837\n",
      "Epoch: 15 Train Loss: 0.8109470483216352 Test Loss: 0.721759728569352\n",
      "Epoch: 16 Train Loss: 0.8109116171088668 Test Loss: 0.7217315201434648\n",
      "Epoch: 17 Train Loss: 0.8108826500354577 Test Loss: 0.7216914705209202\n",
      "Epoch: 18 Train Loss: 0.8106433835423256 Test Loss: 0.7215064450064885\n",
      "Epoch: 19 Train Loss: 0.8106273872854496 Test Loss: 0.7214920911672914\n"
     ]
    }
   ],
   "source": [
    "# Training with batches\n",
    "\n",
    "# how many epochs to train\n",
    "n_epochs = 20 # This will train for one epoch\n",
    "\n",
    "batch_size = 5\n",
    "\n",
    "train_examples = X_train.shape[0]\n",
    "\n",
    "n_batches = int(train_examples/batch_size)\n",
    "\n",
    "# Loop over the epochs\n",
    "for ep in range(n_epochs):\n",
    "                \n",
    "    # Each epoch is a complete loop over the training data\n",
    "    for i in range(n_batches):\n",
    "        \n",
    "        # Reset gradient\n",
    "        optimizer.zero_grad()\n",
    "        \n",
    "        i_start = i*batch_size\n",
    "        i_stop  = (i+1)*batch_size\n",
    "        \n",
    "        # Convert x and y to proper objects for PyTorch\n",
    "        x = torch.tensor(X_train[i_start:i_stop],dtype=torch.float)\n",
    "        y = torch.tensor(y_train[i_start:i_stop],dtype=torch.float)\n",
    "\n",
    "        # Apply the network \n",
    "        net_out = model(x)\n",
    "                \n",
    "        # Calculate the loss function\n",
    "        loss = criterion(net_out,y)\n",
    "                \n",
    "        # Calculate the gradients\n",
    "        loss.backward()\n",
    "        \n",
    "        # Update the weights\n",
    "        optimizer.step()\n",
    "        \n",
    "        \n",
    "    # Calculate predictions for the full training and testing sample\n",
    "    y_pred_train = model(torch.tensor(X_train,dtype=torch.float)).detach().numpy().flatten()\n",
    "    y_pred = model(torch.tensor(X_test,dtype=torch.float)).detach().numpy().flatten()\n",
    "\n",
    "    # Calculate aver loss / example over the epoch\n",
    "    train_loss = np.mean((y_pred_train-y_train)**2)\n",
    "    test_loss = np.mean((y_pred-y_test)**2)\n",
    "    \n",
    "    # print some information\n",
    "    print(\"Epoch:\",ep, \"Train Loss:\", train_loss,  \"Test Loss:\", test_loss)\n",
    "    \n",
    "    # and store the losses for later use\n",
    "    train_losses.append(train_loss)\n",
    "    test_losses.append(test_loss)\n",
    "    "
   ]
  },
  {
   "cell_type": "code",
   "execution_count": null,
   "metadata": {},
   "outputs": [],
   "source": []
  }
 ],
 "metadata": {
  "kernelspec": {
   "display_name": "Python 3",
   "language": "python",
   "name": "python3"
  },
  "language_info": {
   "codemirror_mode": {
    "name": "ipython",
    "version": 3
   },
   "file_extension": ".py",
   "mimetype": "text/x-python",
   "name": "python",
   "nbconvert_exporter": "python",
   "pygments_lexer": "ipython3",
   "version": "3.7.3"
  }
 },
 "nbformat": 4,
 "nbformat_minor": 2
}
