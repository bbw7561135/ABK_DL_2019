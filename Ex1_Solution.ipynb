{
 "cells": [
  {
   "cell_type": "markdown",
   "metadata": {},
   "source": [
    "**Import necessary libraries**\n",
    "\n",
    "   * *numpy*: Working with arrays and many mathematical functions\n",
    "   * *matplotlib*: Making graphs\n",
    "   \n",
    "For documentation see [numpy] and [matplotlib].\n",
    "\n",
    "[numpy]: https://docs.scipy.org/doc/\n",
    "[matplotlib]: https://matplotlib.org/contents.html\n"
   ]
  },
  {
   "cell_type": "code",
   "execution_count": 1,
   "metadata": {},
   "outputs": [],
   "source": [
    "# Import numpy with the name 'np' \n",
    "# (we are going to use this very often, so its useful to type less)\n",
    "import numpy as np\n",
    "\n",
    "# Import the pyplot module from matplotlib under the name 'plt'\n",
    "import matplotlib.pyplot as plt"
   ]
  },
  {
   "cell_type": "code",
   "execution_count": 2,
   "metadata": {},
   "outputs": [
    {
     "name": "stdout",
     "output_type": "stream",
     "text": [
      "(1000,)\n",
      "[0.35880818 2.02607528 1.90918028 2.48135444 2.36202841 1.93007228\n",
      " 2.16662752 1.23040629 2.65523738 2.43229714]\n"
     ]
    }
   ],
   "source": [
    "# Generate a list of random numbers\n",
    "# The numbers are drawn of a Gaussian (normal) distribution\n",
    "# - mean = 2\n",
    "# - standard deviations = 0.5\n",
    "# - 1000 numbers are generated \n",
    "random_numbers = np.random.normal(2,0.5,1000)\n",
    "\n",
    "# We verify that indeed we have created a list with 1000 entries\n",
    "print(random_numbers.shape)\n",
    "\n",
    "# and print the first ten examples\n",
    "print(random_numbers[:10])"
   ]
  },
  {
   "cell_type": "code",
   "execution_count": 3,
   "metadata": {},
   "outputs": [
    {
     "data": {
      "text/plain": [
       "(array([ 0.,  0.,  0.,  0.,  1.,  0.,  1.,  0.,  1.,  2.,  6.,  5.,  9.,\n",
       "         7., 21., 26., 24., 31., 29., 34., 41., 64., 43., 71., 71., 75.,\n",
       "        63., 57., 60., 55., 53., 38., 23., 22., 13., 12., 11.,  9.,  4.,\n",
       "         6.,  4.,  6.,  0.,  1.,  0.,  1.,  0.,  0.,  0.,  0.]),\n",
       " array([0.  , 0.08, 0.16, 0.24, 0.32, 0.4 , 0.48, 0.56, 0.64, 0.72, 0.8 ,\n",
       "        0.88, 0.96, 1.04, 1.12, 1.2 , 1.28, 1.36, 1.44, 1.52, 1.6 , 1.68,\n",
       "        1.76, 1.84, 1.92, 2.  , 2.08, 2.16, 2.24, 2.32, 2.4 , 2.48, 2.56,\n",
       "        2.64, 2.72, 2.8 , 2.88, 2.96, 3.04, 3.12, 3.2 , 3.28, 3.36, 3.44,\n",
       "        3.52, 3.6 , 3.68, 3.76, 3.84, 3.92, 4.  ]),\n",
       " <a list of 50 Patch objects>)"
      ]
     },
     "execution_count": 3,
     "metadata": {},
     "output_type": "execute_result"
    },
    {
     "data": {
      "image/png": "[encoded data removed]",
      "text/plain": [
       "<Figure size 432x288 with 1 Axes>"
      ]
     },
     "metadata": {
      "needs_background": "light"
     },
     "output_type": "display_data"
    }
   ],
   "source": [
    "# Now we want to see the distribution\n",
    "# Create and draw a histogram using\n",
    "# - of the random_numbers \n",
    "# - range=(0,4) sets the horizontal axis to 0..4\n",
    "# - using 50 bins\n",
    "plt.hist(random_numbers,range=(0,4),bins=50)"
   ]
  },
  {
   "cell_type": "code",
   "execution_count": null,
   "metadata": {},
   "outputs": [],
   "source": []
  }
 ],
 "metadata": {
  "kernelspec": {
   "display_name": "Python 3",
   "language": "python",
   "name": "python3"
  },
  "language_info": {
   "codemirror_mode": {
    "name": "ipython",
    "version": 3
   },
   "file_extension": ".py",
   "mimetype": "text/x-python",
   "name": "python",
   "nbconvert_exporter": "python",
   "pygments_lexer": "ipython3",
   "version": "3.7.3"
  }
 },
 "nbformat": 4,
 "nbformat_minor": 2
}
