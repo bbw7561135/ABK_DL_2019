{
 "cells": [
  {
   "cell_type": "markdown",
   "metadata": {},
   "source": [
    "# Exercise 7: Neural Networks using PyTorch"
   ]
  },
  {
   "cell_type": "code",
   "execution_count": 1,
   "metadata": {},
   "outputs": [],
   "source": [
    "import numpy as np\n",
    "import matplotlib.pyplot as plt\n",
    "\n",
    "import torch\n",
    "import torch.nn as nn"
   ]
  },
  {
   "cell_type": "markdown",
   "metadata": {},
   "source": [
    "We are using again the wine-data from Exercise 4, but now building a neural network for prediction."
   ]
  },
  {
   "cell_type": "code",
   "execution_count": 2,
   "metadata": {},
   "outputs": [
    {
     "name": "stdout",
     "output_type": "stream",
     "text": [
      "data: (4898, 12)\n",
      "First example:\n",
      "Features: [6.6000e+00 2.8500e-01 4.9000e-01 1.1400e+01 3.5000e-02 5.7000e+01\n",
      " 1.3700e+02 9.9732e-01 3.0800e+00 5.4000e-01 8.9000e+00]\n",
      "Quality: 6.0\n"
     ]
    }
   ],
   "source": [
    "# load all examples from the file\n",
    "data = np.genfromtxt('winequality-white.csv',delimiter=\";\",skip_header=1)\n",
    "\n",
    "print(\"data:\", data.shape)\n",
    "\n",
    "# Prepare for proper training\n",
    "np.random.shuffle(data) # randomly sort examples\n",
    "\n",
    "# take the first 3000 examples for training\n",
    "X_train = data[:3000,:11] # all features except last column\n",
    "y_train = data[:3000,11]  # quality column\n",
    "\n",
    "# and the remaining examples for testing\n",
    "X_test = data[3000:,:11] # all features except last column\n",
    "y_test = data[3000:,11] # quality column\n",
    "\n",
    "print(\"First example:\")\n",
    "print(\"Features:\", X_train[0])\n",
    "print(\"Quality:\", y_train[0])\n",
    "\n"
   ]
  },
  {
   "cell_type": "markdown",
   "metadata": {},
   "source": [
    "Below is the simple 2-layer NN from last week implemented using PyTorch. In addition to the network we define the loss function and optimiser"
   ]
  },
  {
   "cell_type": "code",
   "execution_count": 3,
   "metadata": {},
   "outputs": [],
   "source": [
    "# Fully connected neural network with one hidden layer\n",
    "class NeuralNet(nn.Module):\n",
    "    def __init__(self):\n",
    "        super(NeuralNet, self).__init__()\n",
    "\n",
    "        # First layer of the network\n",
    "        # 11 inputs, 20 outputs\n",
    "        self.fc1 = nn.Linear(11,20) \n",
    "        \n",
    "        # Second layer of the network\n",
    "        # 20 inputs, 1 output\n",
    "        self.fc2 = nn.Linear(20,1)\n",
    "        \n",
    "        # Relu activation function\n",
    "        self.relu = nn.ReLU()\n",
    "\n",
    "    \n",
    "    def forward(self, x):\n",
    "        \n",
    "        # Apply the network to a given matrix of inputs x\n",
    "        \n",
    "        out = self.fc1(x) # apply first layer\n",
    "        out = self.relu(out) # apply activation function\n",
    "        out = self.fc2(out) # apply second layer\n",
    "        return out\n",
    "\n",
    "# Which device to use for NN calculations\n",
    "device = torch.device('cuda' if torch.cuda.is_available() else 'cpu')  \n",
    "\n",
    "# Create network object\n",
    "model = NeuralNet().to(device)\n",
    "\n",
    "# Loss function\n",
    "criterion = nn.MSELoss()\n",
    "# Optimisation: SGD = stochastic gradient descent\n",
    "optimizer = torch.optim.SGD(model.parameters(), lr=0.001)\n",
    " \n",
    "# Keep track of the losses \n",
    "train_losses = []\n",
    "test_losses = []"
   ]
  },
  {
   "cell_type": "markdown",
   "metadata": {},
   "source": [
    "# Training loop and evaluation below\n",
    "\n",
    "The code below trains the network for 20 epochs using the loss function and optimiser defined above. Each example is individually passed to the network"
   ]
  },
  {
   "cell_type": "code",
   "execution_count": 4,
   "metadata": {
    "scrolled": false
   },
   "outputs": [
    {
     "name": "stderr",
     "output_type": "stream",
     "text": [
      "/Users/gregor/anaconda3/lib/python3.7/site-packages/torch/nn/modules/loss.py:443: UserWarning: Using a target size (torch.Size([])) that is different to the input size (torch.Size([1])). This will likely lead to incorrect results due to broadcasting. Please ensure they have the same size.\n",
      "  return F.mse_loss(input, target, reduction=self.reduction)\n"
     ]
    },
    {
     "name": "stdout",
     "output_type": "stream",
     "text": [
      "Epoch: 0 Train Loss: 0.805985140723288 Test Loss: 0.749298921802552\n",
      "Epoch: 1 Train Loss: 0.8059613692796844 Test Loss: 0.7497900635262861\n",
      "Epoch: 2 Train Loss: 0.805945637111583 Test Loss: 0.7497405202149325\n",
      "Epoch: 3 Train Loss: 0.8059244017305748 Test Loss: 0.7496532404106957\n",
      "Epoch: 4 Train Loss: 0.8059105856594591 Test Loss: 0.7496149909464842\n",
      "Epoch: 5 Train Loss: 0.8058143475430454 Test Loss: 0.749365963621582\n",
      "Epoch: 6 Train Loss: 0.8054768629985879 Test Loss: 0.7488567340912852\n",
      "Epoch: 7 Train Loss: 0.8050132091799475 Test Loss: 0.7480917180959794\n",
      "Epoch: 8 Train Loss: 0.8038105106361689 Test Loss: 0.7465911518026298\n",
      "Epoch: 9 Train Loss: 0.8037590176887731 Test Loss: 0.7463055605058723\n",
      "Epoch: 10 Train Loss: 0.8037241080493016 Test Loss: 0.7460686837062696\n",
      "Epoch: 11 Train Loss: 0.8037020211362759 Test Loss: 0.7458901399481874\n",
      "Epoch: 12 Train Loss: 0.8036731102545809 Test Loss: 0.7457570644451976\n",
      "Epoch: 13 Train Loss: 0.8036764515610081 Test Loss: 0.7456733160450678\n",
      "Epoch: 14 Train Loss: 0.8031183928389762 Test Loss: 0.7454590064443933\n",
      "Epoch: 15 Train Loss: 0.8035657759501279 Test Loss: 0.7460592440905852\n",
      "Epoch: 16 Train Loss: 0.803508586022421 Test Loss: 0.7459107447231965\n",
      "Epoch: 17 Train Loss: 0.8034357869761364 Test Loss: 0.7457695177860761\n",
      "Epoch: 18 Train Loss: 0.803368445093008 Test Loss: 0.7456483596299561\n",
      "Epoch: 19 Train Loss: 0.8029648973340193 Test Loss: 0.7454240805024495\n",
      "Best loss: 0.7454240805024495 Final loss: 0.7454240805024495\n",
      "Correlation coefficient: 0.09008670353009525\n"
     ]
    },
    {
     "data": {
      "image/png": "[encoded data removed]",
      "text/plain": [
       "<Figure size 432x288 with 1 Axes>"
      ]
     },
     "metadata": {
      "needs_background": "light"
     },
     "output_type": "display_data"
    },
    {
     "data": {
      "image/png": "[encoded data removed]",
      "text/plain": [
       "<Figure size 432x288 with 1 Axes>"
      ]
     },
     "metadata": {
      "needs_background": "light"
     },
     "output_type": "display_data"
    }
   ],
   "source": [
    "# how many epochs to train\n",
    "n_epochs = 20 # This will train for one epoch\n",
    "\n",
    "train_examples = X_train.shape[0]\n",
    "\n",
    "# Loop over the epochs\n",
    "for ep in range(n_epochs):\n",
    "                \n",
    "    # Each epoch is a complete loop over the training data\n",
    "    for i in range(train_examples):\n",
    "        \n",
    "        # Reset gradient\n",
    "        optimizer.zero_grad()\n",
    "        \n",
    "        # Convert x and y to proper objects for PyTorch\n",
    "        x = torch.tensor(X_train[i],dtype=torch.float)\n",
    "        y = torch.tensor(y_train[i],dtype=torch.float)\n",
    "\n",
    "        # Apply the network \n",
    "        net_out = model(x)\n",
    "                \n",
    "        # Calculate the loss function\n",
    "        loss = criterion(net_out,y)\n",
    "                \n",
    "        # Calculate the gradients\n",
    "        loss.backward()\n",
    "        \n",
    "        # Update the weights\n",
    "        optimizer.step()\n",
    "        \n",
    "        \n",
    "    # Calculate predictions for the full training and testing sample\n",
    "    y_pred_train = model(torch.tensor(X_train,dtype=torch.float)).detach().numpy().flatten()\n",
    "    y_pred = model(torch.tensor(X_test,dtype=torch.float)).detach().numpy().flatten()\n",
    "\n",
    "    # Calculate aver loss / example over the epoch\n",
    "    train_loss = np.mean((y_pred_train-y_train)**2)\n",
    "    test_loss = np.mean((y_pred-y_test)**2)\n",
    "    \n",
    "    # print some information\n",
    "    print(\"Epoch:\",ep, \"Train Loss:\", train_loss,  \"Test Loss:\", test_loss)\n",
    "    \n",
    "    # and store the losses for later use\n",
    "    train_losses.append(train_loss)\n",
    "    test_losses.append(test_loss)\n",
    "    \n",
    "    \n",
    "# After the training:\n",
    "    \n",
    "# Prepare scatter plot\n",
    "y_pred =  model(torch.tensor(X_test,dtype=torch.float)).detach().numpy().flatten()\n",
    "\n",
    "\n",
    "print(\"Best loss:\", min(test_losses), \"Final loss:\", test_losses[-1])\n",
    "\n",
    "print(\"Correlation coefficient:\", np.corrcoef(y_pred,y_test)[0,1])\n",
    "plt.scatter(y_pred_train,y_train)\n",
    "plt.xlabel(\"Predicted\")\n",
    "plt.ylabel(\"True\")\n",
    "plt.show()\n",
    "\n",
    "# Prepare and loss over time\n",
    "plt.plot(train_losses,label=\"train\")\n",
    "plt.plot(test_losses,label=\"test\")\n",
    "plt.legend()\n",
    "plt.xlabel(\"Epoch\")\n",
    "plt.ylabel(\"Loss\")\n",
    "plt.show()\n"
   ]
  },
  {
   "cell_type": "markdown",
   "metadata": {},
   "source": [
    "\n",
    "# Homework\n",
    "\n",
    "This week's goal is to gain familiarty with the PyTorch library which we will be using for the rest of the week. It is documented [here]\n",
    "    * Currently SGD is used without momentum. Try training with a momentum term (see the documentation of SGD)\n",
    "    * Replace SGD with the Adam optimiser and train using that\n",
    "    * Add two more hidden layers to the network (you can choose the number of nodes but make sure to apply the ReLu activation function after each) and train again\n",
    "    * (more difficult) Instead of single examples, switch to training using batches of 5 examples. Note that the network can simply be applied to a matrix of multiple examples. In this case it will return a vector with one output per example\n",
    "  \n",
    "[here]: https://pytorch.org/docs/stable/index.html"
   ]
  },
  {
   "cell_type": "code",
   "execution_count": null,
   "metadata": {},
   "outputs": [],
   "source": []
  }
 ],
 "metadata": {
  "kernelspec": {
   "display_name": "Python 3",
   "language": "python",
   "name": "python3"
  },
  "language_info": {
   "codemirror_mode": {
    "name": "ipython",
    "version": 3
   },
   "file_extension": ".py",
   "mimetype": "text/x-python",
   "name": "python",
   "nbconvert_exporter": "python",
   "pygments_lexer": "ipython3",
   "version": "3.7.3"
  }
 },
 "nbformat": 4,
 "nbformat_minor": 2
}
