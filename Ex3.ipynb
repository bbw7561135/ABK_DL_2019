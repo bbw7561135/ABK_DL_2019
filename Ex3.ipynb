{
 "cells": [
  {
   "cell_type": "markdown",
   "metadata": {},
   "source": [
    "# In-Class Basics\n"
   ]
  },
  {
   "cell_type": "code",
   "execution_count": 6,
   "metadata": {},
   "outputs": [],
   "source": [
    "import numpy as np\n",
    "import matplotlib.pyplot as plt"
   ]
  },
  {
   "cell_type": "markdown",
   "metadata": {},
   "source": [
    "**Minimisation**\n",
    "\n",
    "The goal of this week's exercise is to implement gradient descent to minimise functions of one or more parametrs."
   ]
  },
  {
   "cell_type": "code",
   "execution_count": 7,
   "metadata": {},
   "outputs": [],
   "source": [
    "# Define a simple function\n",
    "def f(x):\n",
    "    return x**4 - 4 * x**2 + x\n",
    "# and its derivative\n",
    "def df(x):\n",
    "    return 4 * x**3 - 8*x + 1"
   ]
  },
  {
   "cell_type": "code",
   "execution_count": 8,
   "metadata": {},
   "outputs": [
    {
     "data": {
      "text/plain": [
       "[<matplotlib.lines.Line2D at 0x112a77198>]"
      ]
     },
     "execution_count": 8,
     "metadata": {},
     "output_type": "execute_result"
    },
    {
     "data": {
      "image/png": "[encoded data removed]",
      "text/plain": [
       "<Figure size 432x288 with 1 Axes>"
      ]
     },
     "metadata": {
      "needs_background": "light"
     },
     "output_type": "display_data"
    }
   ],
   "source": [
    "## Plot the distribution\n",
    "xs = np.arange(-2,2,0.01) # create an array from -3 to 3 in steps of 0.01\n",
    "ys = f(xs) # applying function to array acts on each element\n",
    "plt.plot(xs,ys)"
   ]
  },
  {
   "cell_type": "code",
   "execution_count": 9,
   "metadata": {},
   "outputs": [],
   "source": [
    "# Find the minimum of a 1d function using gradient descent\n",
    "def find_minimum_1d(function,             # the function to find the minimum of\n",
    "                    derivative,           # derivative\n",
    "                    starting_point=1.,    # point to start at when looking for minimum\n",
    "                    epsilon=0.001,        # learning rate\n",
    "                    delta=1e-5,           # gradient threshold\n",
    "                    max_steps = 10000,    # maximum number of allowed iterations\n",
    "                   ):\n",
    "    \n",
    "    x = starting_point\n",
    "    grad = derivative(x)\n",
    "    step = 0\n",
    "\n",
    "    while (abs(grad) > delta): # repeat until gradient smaller than threshold\n",
    "        \n",
    "        if step >= max_steps:\n",
    "            print(\"Maximum number of steps reached. Stopping now\")\n",
    "            break\n",
    "\n",
    "        x = x - epsilon * derivative(x) # calculate new point\n",
    "        grad = derivative(x) # update gradient\n",
    "        step += 1\n",
    "        \n",
    "    print(\"Minimum at:\", x, \"with value\", function(x), \"found after\",step,\"steps\")\n",
    "    \n",
    "      "
   ]
  },
  {
   "cell_type": "code",
   "execution_count": 10,
   "metadata": {},
   "outputs": [
    {
     "name": "stdout",
     "output_type": "stream",
     "text": [
      "Minimum at: 1.346996685419167 with value -2.6185559807616468 found after 979 steps\n"
     ]
    }
   ],
   "source": [
    "find_minimum_1d(f, df)"
   ]
  },
  {
   "cell_type": "markdown",
   "metadata": {},
   "source": [
    "# Homework problems:\n",
    "   * The algorithm has converged on a local minimum. How can we make it find the global minimum?\n",
    "   * Write a function that implements Newton's method for 1d functions. How does the convergence compare to the gradient descent for the given example?\n",
    "   * Write a function that can find the minimum of 2d function using gradient descent. Remember that now 2 derivatives are needed. Test it using the function:\n"
   ]
  },
  {
   "cell_type": "code",
   "execution_count": 11,
   "metadata": {},
   "outputs": [],
   "source": [
    "def f_2d(x,y):\n",
    "    return (x+2*y-7)**2 + (2*x+y-5)**2"
   ]
  }
 ],
 "metadata": {
  "kernelspec": {
   "display_name": "Python 3",
   "language": "python",
   "name": "python3"
  },
  "language_info": {
   "codemirror_mode": {
    "name": "ipython",
    "version": 3
   },
   "file_extension": ".py",
   "mimetype": "text/x-python",
   "name": "python",
   "nbconvert_exporter": "python",
   "pygments_lexer": "ipython3",
   "version": "3.7.3"
  }
 },
 "nbformat": 4,
 "nbformat_minor": 2
}
